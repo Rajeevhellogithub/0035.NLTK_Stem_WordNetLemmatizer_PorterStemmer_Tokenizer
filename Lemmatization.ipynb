{
 "cells": [
  {
   "cell_type": "markdown",
   "id": "920946ac-f12b-4346-aeed-ad3eccef089c",
   "metadata": {
    "jp-MarkdownHeadingCollapsed": true
   },
   "source": [
    "# Import Libraries"
   ]
  },
  {
   "cell_type": "code",
   "execution_count": 1,
   "id": "ba8d5432-e07d-4e9f-b87b-7932c2dfaacc",
   "metadata": {},
   "outputs": [],
   "source": [
    "import nltk\n",
    "from nltk.stem import WordNetLemmatizer\n",
    "from nltk.corpus import stopwords"
   ]
  },
  {
   "cell_type": "code",
   "execution_count": 6,
   "id": "cb4ade2e-8048-4baf-b42f-97ee7fe44744",
   "metadata": {},
   "outputs": [
    {
     "data": {
      "text/plain": [
       "<WordNetLemmatizer>"
      ]
     },
     "execution_count": 6,
     "metadata": {},
     "output_type": "execute_result"
    }
   ],
   "source": [
    "lemmatizer = WordNetLemmatizer()\n",
    "lemmatizer"
   ]
  },
  {
   "cell_type": "markdown",
   "id": "87da7f41-76e9-4670-95f6-11137cda79d6",
   "metadata": {
    "jp-MarkdownHeadingCollapsed": true
   },
   "source": [
    "# Paragraph 1 - Lemmatization"
   ]
  },
  {
   "cell_type": "code",
   "execution_count": 2,
   "id": "0ed9a7b6-013a-43fb-ae7c-3b3f3dee0af7",
   "metadata": {},
   "outputs": [],
   "source": [
    "paragraph1 = '''AI, machine learning and deep learning are common terms in enterprise \n",
    "                IT and sometimes used interchangeably, especially by companies in their marketing materials. \n",
    "                But there are distinctions. The term AI, coined in the 1950s, refers to the simulation of human \n",
    "                intelligence by machines. It covers an ever-changing set of capabilities as new technologies \n",
    "                are developed. Technologies that come under the umbrella of AI include machine learning and \n",
    "                deep learning. Machine learning enables software applications to become more accurate at \n",
    "                predicting outcomes without being explicitly programmed to do so. Machine learning algorithms \n",
    "                use historical data as input to predict new output values. This approach became vastly more \n",
    "                effective with the rise of large data sets to train on. Deep learning, a subset of machine \n",
    "                learning, is based on our understanding of how the brain is structured. Deep learning's \n",
    "                use of artificial neural networks structure is the underpinning of recent advances in AI, \n",
    "                including self-driving cars and ChatGPT.'''"
   ]
  },
  {
   "cell_type": "code",
   "execution_count": 4,
   "id": "21c51e61-abf2-4fc5-aa62-1aa8d376bece",
   "metadata": {},
   "outputs": [
    {
     "data": {
      "text/plain": [
       "\"AI, machine learning and deep learning are common terms in enterprise \\n                IT and sometimes used interchangeably, especially by companies in their marketing materials. \\n                But there are distinctions. The term AI, coined in the 1950s, refers to the simulation of human \\n                intelligence by machines. It covers an ever-changing set of capabilities as new technologies \\n                are developed. Technologies that come under the umbrella of AI include machine learning and \\n                deep learning. Machine learning enables software applications to become more accurate at \\n                predicting outcomes without being explicitly programmed to do so. Machine learning algorithms \\n                use historical data as input to predict new output values. This approach became vastly more \\n                effective with the rise of large data sets to train on. Deep learning, a subset of machine \\n                learning, is based on our understanding of how the brain is structured. Deep learning's \\n                use of artificial neural networks structure is the underpinning of recent advances in AI, \\n                including self-driving cars and ChatGPT.\""
      ]
     },
     "execution_count": 4,
     "metadata": {},
     "output_type": "execute_result"
    }
   ],
   "source": [
    "paragraph1"
   ]
  },
  {
   "cell_type": "code",
   "execution_count": 7,
   "id": "52f1523e-2d34-44ed-924e-b2efafd85be5",
   "metadata": {},
   "outputs": [
    {
     "data": {
      "text/plain": [
       "10"
      ]
     },
     "execution_count": 7,
     "metadata": {},
     "output_type": "execute_result"
    }
   ],
   "source": [
    "sentences1 = nltk.sent_tokenize(paragraph1)\n",
    "len(sentences1)"
   ]
  },
  {
   "cell_type": "code",
   "execution_count": 8,
   "id": "755e7532-904a-4936-b669-8efcea1541cd",
   "metadata": {},
   "outputs": [
    {
     "name": "stdout",
     "output_type": "stream",
     "text": [
      "AI, machine learning and deep learning are common terms in enterprise \n",
      "                IT and sometimes used interchangeably, especially by companies in their marketing materials.\n",
      "-----------------------------------------------------------------------\n",
      "But there are distinctions.\n",
      "-----------------------------------------------------------------------\n",
      "The term AI, coined in the 1950s, refers to the simulation of human \n",
      "                intelligence by machines.\n",
      "-----------------------------------------------------------------------\n",
      "It covers an ever-changing set of capabilities as new technologies \n",
      "                are developed.\n",
      "-----------------------------------------------------------------------\n",
      "Technologies that come under the umbrella of AI include machine learning and \n",
      "                deep learning.\n",
      "-----------------------------------------------------------------------\n",
      "Machine learning enables software applications to become more accurate at \n",
      "                predicting outcomes without being explicitly programmed to do so.\n",
      "-----------------------------------------------------------------------\n",
      "Machine learning algorithms \n",
      "                use historical data as input to predict new output values.\n",
      "-----------------------------------------------------------------------\n",
      "This approach became vastly more \n",
      "                effective with the rise of large data sets to train on.\n",
      "-----------------------------------------------------------------------\n",
      "Deep learning, a subset of machine \n",
      "                learning, is based on our understanding of how the brain is structured.\n",
      "-----------------------------------------------------------------------\n",
      "Deep learning's \n",
      "                use of artificial neural networks structure is the underpinning of recent advances in AI, \n",
      "                including self-driving cars and ChatGPT.\n",
      "-----------------------------------------------------------------------\n"
     ]
    }
   ],
   "source": [
    "for i in sentences1:\n",
    "    print(i)\n",
    "    print('-----------------------------------------------------------------------')"
   ]
  },
  {
   "cell_type": "code",
   "execution_count": 9,
   "id": "a24154cf-ea98-4ba1-9d56-bf8f4e3f5189",
   "metadata": {},
   "outputs": [],
   "source": [
    "for i in range(len(sentences1)):\n",
    "    words = nltk.word_tokenize(sentences1[i])\n",
    "    words = [lemmatizer.lemmatize(word) for word in words if word not in set(stopwords.words('english'))]\n",
    "    sentences1[i] = ' '.join(words)"
   ]
  },
  {
   "cell_type": "code",
   "execution_count": 10,
   "id": "ced6e79a-2182-4874-890e-073a1337ef1a",
   "metadata": {},
   "outputs": [
    {
     "data": {
      "text/plain": [
       "10"
      ]
     },
     "execution_count": 10,
     "metadata": {},
     "output_type": "execute_result"
    }
   ],
   "source": [
    "len(sentences1)"
   ]
  },
  {
   "cell_type": "code",
   "execution_count": 11,
   "id": "aa72f222-8592-4ec1-9ed4-f16bc7c822a9",
   "metadata": {},
   "outputs": [
    {
     "name": "stdout",
     "output_type": "stream",
     "text": [
      "AI , machine learning deep learning common term enterprise IT sometimes used interchangeably , especially company marketing material .\n",
      "-----------------------------------------------------------------------\n",
      "But distinction .\n",
      "-----------------------------------------------------------------------\n",
      "The term AI , coined 1950s , refers simulation human intelligence machine .\n",
      "-----------------------------------------------------------------------\n",
      "It cover ever-changing set capability new technology developed .\n",
      "-----------------------------------------------------------------------\n",
      "Technologies come umbrella AI include machine learning deep learning .\n",
      "-----------------------------------------------------------------------\n",
      "Machine learning enables software application become accurate predicting outcome without explicitly programmed .\n",
      "-----------------------------------------------------------------------\n",
      "Machine learning algorithm use historical data input predict new output value .\n",
      "-----------------------------------------------------------------------\n",
      "This approach became vastly effective rise large data set train .\n",
      "-----------------------------------------------------------------------\n",
      "Deep learning , subset machine learning , based understanding brain structured .\n",
      "-----------------------------------------------------------------------\n",
      "Deep learning 's use artificial neural network structure underpinning recent advance AI , including self-driving car ChatGPT .\n",
      "-----------------------------------------------------------------------\n"
     ]
    }
   ],
   "source": [
    "for i in sentences1:\n",
    "    print(i)\n",
    "    print('-----------------------------------------------------------------------')"
   ]
  },
  {
   "cell_type": "markdown",
   "id": "e1de195e-ec12-48ed-a05f-9cf00ce8cabc",
   "metadata": {
    "jp-MarkdownHeadingCollapsed": true
   },
   "source": [
    "# Paragraph 2 - Lemmatization"
   ]
  },
  {
   "cell_type": "code",
   "execution_count": 3,
   "id": "5bbcf5ea-8276-4f72-b699-c812a9cabd25",
   "metadata": {},
   "outputs": [],
   "source": [
    "paragraph2 = \"\"\"I have three visions for India. In 3000 years of our history, people from all over \n",
    "               the world have come and invaded us, captured our lands, conquered our minds. \n",
    "               From Alexander onwards, the Greeks, the Turks, the Moguls, the Portuguese, the British,\n",
    "               the French, the Dutch, all of them came and looted us, took over what was ours. \n",
    "               Yet we have not done this to any other nation. We have not conquered anyone. \n",
    "               We have not grabbed their land, their culture, \n",
    "               their history and tried to enforce our way of life on them. \n",
    "               Why? Because we respect the freedom of others.That is why my \n",
    "               first vision is that of freedom. I believe that India got its first vision of \n",
    "               this in 1857, when we started the War of Independence. It is this freedom that\n",
    "               we must protect and nurture and build on. If we are not free, no one will respect us.\n",
    "               My second vision for India’s development. For fifty years we have been a developing nation.\n",
    "               It is time we see ourselves as a developed nation. We are among the top 5 nations of the world\n",
    "               in terms of GDP. We have a 10 percent growth rate in most areas. Our poverty levels are falling.\n",
    "               Our achievements are being globally recognised today. Yet we lack the self-confidence to\n",
    "               see ourselves as a developed nation, self-reliant and self-assured. Isn’t this incorrect?\n",
    "               I have a third vision. India must stand up to the world. Because I believe that unless India \n",
    "               stands up to the world, no one will respect us. Only strength respects strength. We must be \n",
    "               strong not only as a military power but also as an economic power. Both must go hand-in-hand. \n",
    "               My good fortune was to have worked with three great minds. Dr. Vikram Sarabhai of the Dept. of \n",
    "               space, Professor Satish Dhawan, who succeeded him and Dr. Brahm Prakash, father of nuclear material.\n",
    "               I was lucky to have worked with all three of them closely and consider this the great opportunity of my life. \n",
    "               I see four milestones in my career. india is great compare to other country \"\"\""
   ]
  },
  {
   "cell_type": "code",
   "execution_count": 5,
   "id": "128c4eb8-4fe6-4437-9449-d9974aee6c77",
   "metadata": {},
   "outputs": [
    {
     "data": {
      "text/plain": [
       "'I have three visions for India. In 3000 years of our history, people from all over \\n               the world have come and invaded us, captured our lands, conquered our minds. \\n               From Alexander onwards, the Greeks, the Turks, the Moguls, the Portuguese, the British,\\n               the French, the Dutch, all of them came and looted us, took over what was ours. \\n               Yet we have not done this to any other nation. We have not conquered anyone. \\n               We have not grabbed their land, their culture, \\n               their history and tried to enforce our way of life on them. \\n               Why? Because we respect the freedom of others.That is why my \\n               first vision is that of freedom. I believe that India got its first vision of \\n               this in 1857, when we started the War of Independence. It is this freedom that\\n               we must protect and nurture and build on. If we are not free, no one will respect us.\\n               My second vision for India’s development. For fifty years we have been a developing nation.\\n               It is time we see ourselves as a developed nation. We are among the top 5 nations of the world\\n               in terms of GDP. We have a 10 percent growth rate in most areas. Our poverty levels are falling.\\n               Our achievements are being globally recognised today. Yet we lack the self-confidence to\\n               see ourselves as a developed nation, self-reliant and self-assured. Isn’t this incorrect?\\n               I have a third vision. India must stand up to the world. Because I believe that unless India \\n               stands up to the world, no one will respect us. Only strength respects strength. We must be \\n               strong not only as a military power but also as an economic power. Both must go hand-in-hand. \\n               My good fortune was to have worked with three great minds. Dr. Vikram Sarabhai of the Dept. of \\n               space, Professor Satish Dhawan, who succeeded him and Dr. Brahm Prakash, father of nuclear material.\\n               I was lucky to have worked with all three of them closely and consider this the great opportunity of my life. \\n               I see four milestones in my career. india is great compare to other country '"
      ]
     },
     "execution_count": 5,
     "metadata": {},
     "output_type": "execute_result"
    }
   ],
   "source": [
    "paragraph2"
   ]
  },
  {
   "cell_type": "code",
   "execution_count": 12,
   "id": "5dbc6098-e1ca-4701-b594-e08525fe4d1b",
   "metadata": {},
   "outputs": [
    {
     "data": {
      "text/plain": [
       "32"
      ]
     },
     "execution_count": 12,
     "metadata": {},
     "output_type": "execute_result"
    }
   ],
   "source": [
    "sentences2 = nltk.sent_tokenize(paragraph2)\n",
    "len(sentences2)"
   ]
  },
  {
   "cell_type": "code",
   "execution_count": 13,
   "id": "d1c3ff8e-974c-4678-9ca3-80f81933795e",
   "metadata": {},
   "outputs": [
    {
     "name": "stdout",
     "output_type": "stream",
     "text": [
      "I have three visions for India.\n",
      "-----------------------------------------------------------------------\n",
      "In 3000 years of our history, people from all over \n",
      "               the world have come and invaded us, captured our lands, conquered our minds.\n",
      "-----------------------------------------------------------------------\n",
      "From Alexander onwards, the Greeks, the Turks, the Moguls, the Portuguese, the British,\n",
      "               the French, the Dutch, all of them came and looted us, took over what was ours.\n",
      "-----------------------------------------------------------------------\n",
      "Yet we have not done this to any other nation.\n",
      "-----------------------------------------------------------------------\n",
      "We have not conquered anyone.\n",
      "-----------------------------------------------------------------------\n",
      "We have not grabbed their land, their culture, \n",
      "               their history and tried to enforce our way of life on them.\n",
      "-----------------------------------------------------------------------\n",
      "Why?\n",
      "-----------------------------------------------------------------------\n",
      "Because we respect the freedom of others.That is why my \n",
      "               first vision is that of freedom.\n",
      "-----------------------------------------------------------------------\n",
      "I believe that India got its first vision of \n",
      "               this in 1857, when we started the War of Independence.\n",
      "-----------------------------------------------------------------------\n",
      "It is this freedom that\n",
      "               we must protect and nurture and build on.\n",
      "-----------------------------------------------------------------------\n",
      "If we are not free, no one will respect us.\n",
      "-----------------------------------------------------------------------\n",
      "My second vision for India’s development.\n",
      "-----------------------------------------------------------------------\n",
      "For fifty years we have been a developing nation.\n",
      "-----------------------------------------------------------------------\n",
      "It is time we see ourselves as a developed nation.\n",
      "-----------------------------------------------------------------------\n",
      "We are among the top 5 nations of the world\n",
      "               in terms of GDP.\n",
      "-----------------------------------------------------------------------\n",
      "We have a 10 percent growth rate in most areas.\n",
      "-----------------------------------------------------------------------\n",
      "Our poverty levels are falling.\n",
      "-----------------------------------------------------------------------\n",
      "Our achievements are being globally recognised today.\n",
      "-----------------------------------------------------------------------\n",
      "Yet we lack the self-confidence to\n",
      "               see ourselves as a developed nation, self-reliant and self-assured.\n",
      "-----------------------------------------------------------------------\n",
      "Isn’t this incorrect?\n",
      "-----------------------------------------------------------------------\n",
      "I have a third vision.\n",
      "-----------------------------------------------------------------------\n",
      "India must stand up to the world.\n",
      "-----------------------------------------------------------------------\n",
      "Because I believe that unless India \n",
      "               stands up to the world, no one will respect us.\n",
      "-----------------------------------------------------------------------\n",
      "Only strength respects strength.\n",
      "-----------------------------------------------------------------------\n",
      "We must be \n",
      "               strong not only as a military power but also as an economic power.\n",
      "-----------------------------------------------------------------------\n",
      "Both must go hand-in-hand.\n",
      "-----------------------------------------------------------------------\n",
      "My good fortune was to have worked with three great minds.\n",
      "-----------------------------------------------------------------------\n",
      "Dr. Vikram Sarabhai of the Dept.\n",
      "-----------------------------------------------------------------------\n",
      "of \n",
      "               space, Professor Satish Dhawan, who succeeded him and Dr. Brahm Prakash, father of nuclear material.\n",
      "-----------------------------------------------------------------------\n",
      "I was lucky to have worked with all three of them closely and consider this the great opportunity of my life.\n",
      "-----------------------------------------------------------------------\n",
      "I see four milestones in my career.\n",
      "-----------------------------------------------------------------------\n",
      "india is great compare to other country\n",
      "-----------------------------------------------------------------------\n"
     ]
    }
   ],
   "source": [
    "for i in sentences2:\n",
    "    print(i)\n",
    "    print('-----------------------------------------------------------------------')"
   ]
  },
  {
   "cell_type": "code",
   "execution_count": 14,
   "id": "3eb3f04f-5901-4939-a715-7307c98d889f",
   "metadata": {},
   "outputs": [],
   "source": [
    "for i in range(len(sentences2)):\n",
    "    words = nltk.word_tokenize(sentences2[i])\n",
    "    words = [lemmatizer.lemmatize(word) for word in words if word not in set(stopwords.words('english'))]\n",
    "    sentences2[i] = ' '.join(words)"
   ]
  },
  {
   "cell_type": "code",
   "execution_count": 15,
   "id": "0349844f-51f6-4d2d-b7f7-cc0df1a65712",
   "metadata": {},
   "outputs": [
    {
     "data": {
      "text/plain": [
       "32"
      ]
     },
     "execution_count": 15,
     "metadata": {},
     "output_type": "execute_result"
    }
   ],
   "source": [
    "len(sentences2)"
   ]
  },
  {
   "cell_type": "code",
   "execution_count": 16,
   "id": "ef0b7c39-0e9f-400f-92eb-c87cc1a39ac7",
   "metadata": {},
   "outputs": [
    {
     "name": "stdout",
     "output_type": "stream",
     "text": [
      "I three vision India .\n",
      "-----------------------------------------------------------------------\n",
      "In 3000 year history , people world come invaded u , captured land , conquered mind .\n",
      "-----------------------------------------------------------------------\n",
      "From Alexander onwards , Greeks , Turks , Moguls , Portuguese , British , French , Dutch , came looted u , took .\n",
      "-----------------------------------------------------------------------\n",
      "Yet done nation .\n",
      "-----------------------------------------------------------------------\n",
      "We conquered anyone .\n",
      "-----------------------------------------------------------------------\n",
      "We grabbed land , culture , history tried enforce way life .\n",
      "-----------------------------------------------------------------------\n",
      "Why ?\n",
      "-----------------------------------------------------------------------\n",
      "Because respect freedom others.That first vision freedom .\n",
      "-----------------------------------------------------------------------\n",
      "I believe India got first vision 1857 , started War Independence .\n",
      "-----------------------------------------------------------------------\n",
      "It freedom must protect nurture build .\n",
      "-----------------------------------------------------------------------\n",
      "If free , one respect u .\n",
      "-----------------------------------------------------------------------\n",
      "My second vision India ’ development .\n",
      "-----------------------------------------------------------------------\n",
      "For fifty year developing nation .\n",
      "-----------------------------------------------------------------------\n",
      "It time see developed nation .\n",
      "-----------------------------------------------------------------------\n",
      "We among top 5 nation world term GDP .\n",
      "-----------------------------------------------------------------------\n",
      "We 10 percent growth rate area .\n",
      "-----------------------------------------------------------------------\n",
      "Our poverty level falling .\n",
      "-----------------------------------------------------------------------\n",
      "Our achievement globally recognised today .\n",
      "-----------------------------------------------------------------------\n",
      "Yet lack self-confidence see developed nation , self-reliant self-assured .\n",
      "-----------------------------------------------------------------------\n",
      "Isn ’ incorrect ?\n",
      "-----------------------------------------------------------------------\n",
      "I third vision .\n",
      "-----------------------------------------------------------------------\n",
      "India must stand world .\n",
      "-----------------------------------------------------------------------\n",
      "Because I believe unless India stand world , one respect u .\n",
      "-----------------------------------------------------------------------\n",
      "Only strength respect strength .\n",
      "-----------------------------------------------------------------------\n",
      "We must strong military power also economic power .\n",
      "-----------------------------------------------------------------------\n",
      "Both must go hand-in-hand .\n",
      "-----------------------------------------------------------------------\n",
      "My good fortune worked three great mind .\n",
      "-----------------------------------------------------------------------\n",
      "Dr. Vikram Sarabhai Dept .\n",
      "-----------------------------------------------------------------------\n",
      "space , Professor Satish Dhawan , succeeded Dr. Brahm Prakash , father nuclear material .\n",
      "-----------------------------------------------------------------------\n",
      "I lucky worked three closely consider great opportunity life .\n",
      "-----------------------------------------------------------------------\n",
      "I see four milestone career .\n",
      "-----------------------------------------------------------------------\n",
      "india great compare country\n",
      "-----------------------------------------------------------------------\n"
     ]
    }
   ],
   "source": [
    "for i in sentences2:\n",
    "    print(i)\n",
    "    print('-----------------------------------------------------------------------')"
   ]
  }
 ],
 "metadata": {
  "kernelspec": {
   "display_name": "Python 3 (ipykernel)",
   "language": "python",
   "name": "python3"
  },
  "language_info": {
   "codemirror_mode": {
    "name": "ipython",
    "version": 3
   },
   "file_extension": ".py",
   "mimetype": "text/x-python",
   "name": "python",
   "nbconvert_exporter": "python",
   "pygments_lexer": "ipython3",
   "version": "3.12.4"
  }
 },
 "nbformat": 4,
 "nbformat_minor": 5
}
