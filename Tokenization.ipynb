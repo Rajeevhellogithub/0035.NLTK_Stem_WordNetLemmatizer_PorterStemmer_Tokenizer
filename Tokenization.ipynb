{
 "cells": [
  {
   "cell_type": "markdown",
   "id": "78002e58-9340-4e33-8d11-44a644dd9b08",
   "metadata": {
    "jp-MarkdownHeadingCollapsed": true
   },
   "source": [
    "# Import Libraries"
   ]
  },
  {
   "cell_type": "code",
   "execution_count": 1,
   "id": "574dbed8-8090-46e8-a719-825123e8cb89",
   "metadata": {},
   "outputs": [],
   "source": [
    "import nltk"
   ]
  },
  {
   "cell_type": "markdown",
   "id": "f52a57c7-20a9-453f-9079-3abc111a18ce",
   "metadata": {
    "jp-MarkdownHeadingCollapsed": true
   },
   "source": [
    "# Paragraph 1 - Sentence and Word Tokenization"
   ]
  },
  {
   "cell_type": "code",
   "execution_count": 2,
   "id": "d86f35a4-13f8-4af9-9940-01c1a0caf130",
   "metadata": {},
   "outputs": [],
   "source": [
    "paragraph1 = '''AI, machine learning and deep learning are common terms in enterprise \n",
    "                IT and sometimes used interchangeably, especially by companies in their marketing materials. \n",
    "                But there are distinctions. The term AI, coined in the 1950s, refers to the simulation of human \n",
    "                intelligence by machines. It covers an ever-changing set of capabilities as new technologies \n",
    "                are developed. Technologies that come under the umbrella of AI include machine learning and \n",
    "                deep learning. Machine learning enables software applications to become more accurate at \n",
    "                predicting outcomes without being explicitly programmed to do so. Machine learning algorithms \n",
    "                use historical data as input to predict new output values. This approach became vastly more \n",
    "                effective with the rise of large data sets to train on. Deep learning, a subset of machine \n",
    "                learning, is based on our understanding of how the brain is structured. Deep learning's \n",
    "                use of artificial neural networks structure is the underpinning of recent advances in AI, \n",
    "                including self-driving cars and ChatGPT.'''"
   ]
  },
  {
   "cell_type": "code",
   "execution_count": 3,
   "id": "0837db87-4743-4548-a8fd-dc6729610c3f",
   "metadata": {},
   "outputs": [
    {
     "data": {
      "text/plain": [
       "\"AI, machine learning and deep learning are common terms in enterprise \\n                IT and sometimes used interchangeably, especially by companies in their marketing materials. \\n                But there are distinctions. The term AI, coined in the 1950s, refers to the simulation of human \\n                intelligence by machines. It covers an ever-changing set of capabilities as new technologies \\n                are developed. Technologies that come under the umbrella of AI include machine learning and \\n                deep learning. Machine learning enables software applications to become more accurate at \\n                predicting outcomes without being explicitly programmed to do so. Machine learning algorithms \\n                use historical data as input to predict new output values. This approach became vastly more \\n                effective with the rise of large data sets to train on. Deep learning, a subset of machine \\n                learning, is based on our understanding of how the brain is structured. Deep learning's \\n                use of artificial neural networks structure is the underpinning of recent advances in AI, \\n                including self-driving cars and ChatGPT.\""
      ]
     },
     "execution_count": 3,
     "metadata": {},
     "output_type": "execute_result"
    }
   ],
   "source": [
    "paragraph1"
   ]
  },
  {
   "cell_type": "code",
   "execution_count": 4,
   "id": "5d184f4e-f1ba-4f37-baf1-b65b4f4e649e",
   "metadata": {},
   "outputs": [
    {
     "name": "stdout",
     "output_type": "stream",
     "text": [
      "10\n",
      "<class 'list'>\n"
     ]
    }
   ],
   "source": [
    "sentences1 = nltk.sent_tokenize(paragraph1)\n",
    "print(len(sentences1))\n",
    "print(type(sentences1))"
   ]
  },
  {
   "cell_type": "code",
   "execution_count": 12,
   "id": "0e2c3f9e-cfca-4fbc-af37-cbd02eaf3183",
   "metadata": {},
   "outputs": [
    {
     "name": "stdout",
     "output_type": "stream",
     "text": [
      "AI, machine learning and deep learning are common terms in enterprise \n",
      "                IT and sometimes used interchangeably, especially by companies in their marketing materials.\n",
      "-----------------------------------------------------------------------\n",
      "But there are distinctions.\n",
      "-----------------------------------------------------------------------\n",
      "The term AI, coined in the 1950s, refers to the simulation of human \n",
      "                intelligence by machines.\n",
      "-----------------------------------------------------------------------\n",
      "It covers an ever-changing set of capabilities as new technologies \n",
      "                are developed.\n",
      "-----------------------------------------------------------------------\n",
      "Technologies that come under the umbrella of AI include machine learning and \n",
      "                deep learning.\n",
      "-----------------------------------------------------------------------\n",
      "Machine learning enables software applications to become more accurate at \n",
      "                predicting outcomes without being explicitly programmed to do so.\n",
      "-----------------------------------------------------------------------\n",
      "Machine learning algorithms \n",
      "                use historical data as input to predict new output values.\n",
      "-----------------------------------------------------------------------\n",
      "This approach became vastly more \n",
      "                effective with the rise of large data sets to train on.\n",
      "-----------------------------------------------------------------------\n",
      "Deep learning, a subset of machine \n",
      "                learning, is based on our understanding of how the brain is structured.\n",
      "-----------------------------------------------------------------------\n",
      "Deep learning's \n",
      "                use of artificial neural networks structure is the underpinning of recent advances in AI, \n",
      "                including self-driving cars and ChatGPT.\n",
      "-----------------------------------------------------------------------\n"
     ]
    }
   ],
   "source": [
    "for i in sentences1:\n",
    "    print(i)\n",
    "    print('-----------------------------------------------------------------------')"
   ]
  },
  {
   "cell_type": "code",
   "execution_count": 15,
   "id": "0f1dbd91-2850-4cd0-8f68-c69b16b959ed",
   "metadata": {},
   "outputs": [
    {
     "data": {
      "text/plain": [
       "174"
      ]
     },
     "execution_count": 15,
     "metadata": {},
     "output_type": "execute_result"
    }
   ],
   "source": [
    "words1 = nltk.word_tokenize(paragraph1)\n",
    "len(words1)"
   ]
  },
  {
   "cell_type": "code",
   "execution_count": 24,
   "id": "b2e94f95-4caf-414e-9ed5-a403f2f80a24",
   "metadata": {},
   "outputs": [
    {
     "name": "stdout",
     "output_type": "stream",
     "text": [
      "AI    ,    machine    learning    and    deep    learning    are    common    terms    in    enterprise    IT    and    sometimes    used    interchangeably    ,    especially    by    companies    in    their    marketing    materials    .    But    there    are    distinctions    .    The    term    AI    ,    coined    in    the    1950s    ,    refers    to    the    simulation    of    human    intelligence    by    machines    .    It    covers    an    ever-changing    set    of    capabilities    as    new    technologies    are    developed    .    Technologies    that    come    under    the    umbrella    of    AI    include    machine    learning    and    deep    learning    .    Machine    learning    enables    software    applications    to    become    more    accurate    at    predicting    outcomes    without    being    explicitly    programmed    to    do    so    .    Machine    learning    algorithms    use    historical    data    as    input    to    predict    new    output    values    .    This    approach    became    vastly    more    effective    with    the    rise    of    large    data    sets    to    train    on    .    Deep    learning    ,    a    subset    of    machine    learning    ,    is    based    on    our    understanding    of    how    the    brain    is    structured    .    Deep    learning    's    use    of    artificial    neural    networks    structure    is    the    underpinning    of    recent    advances    in    AI    ,    including    self-driving    cars    and    ChatGPT    .    "
     ]
    }
   ],
   "source": [
    "for i in words1:\n",
    "    print(i, end='    ')"
   ]
  },
  {
   "cell_type": "markdown",
   "id": "adca8d5e-b64e-4845-8cde-f9ce5582a1b9",
   "metadata": {
    "jp-MarkdownHeadingCollapsed": true
   },
   "source": [
    "# Paragraph 2 - Sentence and Word Tokenization"
   ]
  },
  {
   "cell_type": "code",
   "execution_count": 3,
   "id": "51a64fe8-8d6d-41a9-af57-84661d6eb2da",
   "metadata": {},
   "outputs": [],
   "source": [
    "paragraph2 = \"\"\"I have three visions for India. In 3000 years of our history, people from all over \n",
    "               the world have come and invaded us, captured our lands, conquered our minds. \n",
    "               From Alexander onwards, the Greeks, the Turks, the Moguls, the Portuguese, the British,\n",
    "               the French, the Dutch, all of them came and looted us, took over what was ours. \n",
    "               Yet we have not done this to any other nation. We have not conquered anyone. \n",
    "               We have not grabbed their land, their culture, \n",
    "               their history and tried to enforce our way of life on them. \n",
    "               Why? Because we respect the freedom of others.That is why my \n",
    "               first vision is that of freedom. I believe that India got its first vision of \n",
    "               this in 1857, when we started the War of Independence. It is this freedom that\n",
    "               we must protect and nurture and build on. If we are not free, no one will respect us.\n",
    "               My second vision for India’s development. For fifty years we have been a developing nation.\n",
    "               It is time we see ourselves as a developed nation. We are among the top 5 nations of the world\n",
    "               in terms of GDP. We have a 10 percent growth rate in most areas. Our poverty levels are falling.\n",
    "               Our achievements are being globally recognised today. Yet we lack the self-confidence to\n",
    "               see ourselves as a developed nation, self-reliant and self-assured. Isn’t this incorrect?\n",
    "               I have a third vision. India must stand up to the world. Because I believe that unless India \n",
    "               stands up to the world, no one will respect us. Only strength respects strength. We must be \n",
    "               strong not only as a military power but also as an economic power. Both must go hand-in-hand. \n",
    "               My good fortune was to have worked with three great minds. Dr. Vikram Sarabhai of the Dept. of \n",
    "               space, Professor Satish Dhawan, who succeeded him and Dr. Brahm Prakash, father of nuclear material.\n",
    "               I was lucky to have worked with all three of them closely and consider this the great opportunity of my life. \n",
    "               I see four milestones in my career. india is great compare to other country \"\"\""
   ]
  },
  {
   "cell_type": "code",
   "execution_count": 14,
   "id": "787c98fc-07f8-4b14-9cc1-2045d775b792",
   "metadata": {},
   "outputs": [
    {
     "data": {
      "text/plain": [
       "'I have three visions for India. In 3000 years of our history, people from all over \\n               the world have come and invaded us, captured our lands, conquered our minds. \\n               From Alexander onwards, the Greeks, the Turks, the Moguls, the Portuguese, the British,\\n               the French, the Dutch, all of them came and looted us, took over what was ours. \\n               Yet we have not done this to any other nation. We have not conquered anyone. \\n               We have not grabbed their land, their culture, \\n               their history and tried to enforce our way of life on them. \\n               Why? Because we respect the freedom of others.That is why my \\n               first vision is that of freedom. I believe that India got its first vision of \\n               this in 1857, when we started the War of Independence. It is this freedom that\\n               we must protect and nurture and build on. If we are not free, no one will respect us.\\n               My second vision for India’s development. For fifty years we have been a developing nation.\\n               It is time we see ourselves as a developed nation. We are among the top 5 nations of the world\\n               in terms of GDP. We have a 10 percent growth rate in most areas. Our poverty levels are falling.\\n               Our achievements are being globally recognised today. Yet we lack the self-confidence to\\n               see ourselves as a developed nation, self-reliant and self-assured. Isn’t this incorrect?\\n               I have a third vision. India must stand up to the world. Because I believe that unless India \\n               stands up to the world, no one will respect us. Only strength respects strength. We must be \\n               strong not only as a military power but also as an economic power. Both must go hand-in-hand. \\n               My good fortune was to have worked with three great minds. Dr. Vikram Sarabhai of the Dept. of \\n               space, Professor Satish Dhawan, who succeeded him and Dr. Brahm Prakash, father of nuclear material.\\n               I was lucky to have worked with all three of them closely and consider this the great opportunity of my life. \\n               I see four milestones in my career. india is great compare to other country '"
      ]
     },
     "execution_count": 14,
     "metadata": {},
     "output_type": "execute_result"
    }
   ],
   "source": [
    "paragraph2"
   ]
  },
  {
   "cell_type": "code",
   "execution_count": 25,
   "id": "e75eaf94-c361-4e27-b91c-ab660c24ded5",
   "metadata": {},
   "outputs": [
    {
     "data": {
      "text/plain": [
       "32"
      ]
     },
     "execution_count": 25,
     "metadata": {},
     "output_type": "execute_result"
    }
   ],
   "source": [
    "sentences2 = nltk.sent_tokenize(paragraph2)\n",
    "len(sentences2)"
   ]
  },
  {
   "cell_type": "code",
   "execution_count": 26,
   "id": "f2d339d3-3ce6-4b4b-ac4f-a87e2f91745f",
   "metadata": {},
   "outputs": [
    {
     "name": "stdout",
     "output_type": "stream",
     "text": [
      "I have three visions for India.\n",
      "-----------------------------------------------------------------------\n",
      "In 3000 years of our history, people from all over \n",
      "               the world have come and invaded us, captured our lands, conquered our minds.\n",
      "-----------------------------------------------------------------------\n",
      "From Alexander onwards, the Greeks, the Turks, the Moguls, the Portuguese, the British,\n",
      "               the French, the Dutch, all of them came and looted us, took over what was ours.\n",
      "-----------------------------------------------------------------------\n",
      "Yet we have not done this to any other nation.\n",
      "-----------------------------------------------------------------------\n",
      "We have not conquered anyone.\n",
      "-----------------------------------------------------------------------\n",
      "We have not grabbed their land, their culture, \n",
      "               their history and tried to enforce our way of life on them.\n",
      "-----------------------------------------------------------------------\n",
      "Why?\n",
      "-----------------------------------------------------------------------\n",
      "Because we respect the freedom of others.That is why my \n",
      "               first vision is that of freedom.\n",
      "-----------------------------------------------------------------------\n",
      "I believe that India got its first vision of \n",
      "               this in 1857, when we started the War of Independence.\n",
      "-----------------------------------------------------------------------\n",
      "It is this freedom that\n",
      "               we must protect and nurture and build on.\n",
      "-----------------------------------------------------------------------\n",
      "If we are not free, no one will respect us.\n",
      "-----------------------------------------------------------------------\n",
      "My second vision for India’s development.\n",
      "-----------------------------------------------------------------------\n",
      "For fifty years we have been a developing nation.\n",
      "-----------------------------------------------------------------------\n",
      "It is time we see ourselves as a developed nation.\n",
      "-----------------------------------------------------------------------\n",
      "We are among the top 5 nations of the world\n",
      "               in terms of GDP.\n",
      "-----------------------------------------------------------------------\n",
      "We have a 10 percent growth rate in most areas.\n",
      "-----------------------------------------------------------------------\n",
      "Our poverty levels are falling.\n",
      "-----------------------------------------------------------------------\n",
      "Our achievements are being globally recognised today.\n",
      "-----------------------------------------------------------------------\n",
      "Yet we lack the self-confidence to\n",
      "               see ourselves as a developed nation, self-reliant and self-assured.\n",
      "-----------------------------------------------------------------------\n",
      "Isn’t this incorrect?\n",
      "-----------------------------------------------------------------------\n",
      "I have a third vision.\n",
      "-----------------------------------------------------------------------\n",
      "India must stand up to the world.\n",
      "-----------------------------------------------------------------------\n",
      "Because I believe that unless India \n",
      "               stands up to the world, no one will respect us.\n",
      "-----------------------------------------------------------------------\n",
      "Only strength respects strength.\n",
      "-----------------------------------------------------------------------\n",
      "We must be \n",
      "               strong not only as a military power but also as an economic power.\n",
      "-----------------------------------------------------------------------\n",
      "Both must go hand-in-hand.\n",
      "-----------------------------------------------------------------------\n",
      "My good fortune was to have worked with three great minds.\n",
      "-----------------------------------------------------------------------\n",
      "Dr. Vikram Sarabhai of the Dept.\n",
      "-----------------------------------------------------------------------\n",
      "of \n",
      "               space, Professor Satish Dhawan, who succeeded him and Dr. Brahm Prakash, father of nuclear material.\n",
      "-----------------------------------------------------------------------\n",
      "I was lucky to have worked with all three of them closely and consider this the great opportunity of my life.\n",
      "-----------------------------------------------------------------------\n",
      "I see four milestones in my career.\n",
      "-----------------------------------------------------------------------\n",
      "india is great compare to other country\n",
      "-----------------------------------------------------------------------\n"
     ]
    }
   ],
   "source": [
    "for i in sentences2:\n",
    "    print(i)\n",
    "    print('-----------------------------------------------------------------------')"
   ]
  },
  {
   "cell_type": "code",
   "execution_count": 27,
   "id": "93e5877b-9e51-48c6-a3c5-3df59e78e8dd",
   "metadata": {},
   "outputs": [
    {
     "data": {
      "text/plain": [
       "407"
      ]
     },
     "execution_count": 27,
     "metadata": {},
     "output_type": "execute_result"
    }
   ],
   "source": [
    "words2 = nltk.word_tokenize(paragraph2)\n",
    "len(words2)"
   ]
  },
  {
   "cell_type": "code",
   "execution_count": 28,
   "id": "96345151-0610-4546-ae35-4c9d7943720a",
   "metadata": {},
   "outputs": [
    {
     "name": "stdout",
     "output_type": "stream",
     "text": [
      "I    have    three    visions    for    India    .    In    3000    years    of    our    history    ,    people    from    all    over    the    world    have    come    and    invaded    us    ,    captured    our    lands    ,    conquered    our    minds    .    From    Alexander    onwards    ,    the    Greeks    ,    the    Turks    ,    the    Moguls    ,    the    Portuguese    ,    the    British    ,    the    French    ,    the    Dutch    ,    all    of    them    came    and    looted    us    ,    took    over    what    was    ours    .    Yet    we    have    not    done    this    to    any    other    nation    .    We    have    not    conquered    anyone    .    We    have    not    grabbed    their    land    ,    their    culture    ,    their    history    and    tried    to    enforce    our    way    of    life    on    them    .    Why    ?    Because    we    respect    the    freedom    of    others.That    is    why    my    first    vision    is    that    of    freedom    .    I    believe    that    India    got    its    first    vision    of    this    in    1857    ,    when    we    started    the    War    of    Independence    .    It    is    this    freedom    that    we    must    protect    and    nurture    and    build    on    .    If    we    are    not    free    ,    no    one    will    respect    us    .    My    second    vision    for    India    ’    s    development    .    For    fifty    years    we    have    been    a    developing    nation    .    It    is    time    we    see    ourselves    as    a    developed    nation    .    We    are    among    the    top    5    nations    of    the    world    in    terms    of    GDP    .    We    have    a    10    percent    growth    rate    in    most    areas    .    Our    poverty    levels    are    falling    .    Our    achievements    are    being    globally    recognised    today    .    Yet    we    lack    the    self-confidence    to    see    ourselves    as    a    developed    nation    ,    self-reliant    and    self-assured    .    Isn    ’    t    this    incorrect    ?    I    have    a    third    vision    .    India    must    stand    up    to    the    world    .    Because    I    believe    that    unless    India    stands    up    to    the    world    ,    no    one    will    respect    us    .    Only    strength    respects    strength    .    We    must    be    strong    not    only    as    a    military    power    but    also    as    an    economic    power    .    Both    must    go    hand-in-hand    .    My    good    fortune    was    to    have    worked    with    three    great    minds    .    Dr.    Vikram    Sarabhai    of    the    Dept    .    of    space    ,    Professor    Satish    Dhawan    ,    who    succeeded    him    and    Dr.    Brahm    Prakash    ,    father    of    nuclear    material    .    I    was    lucky    to    have    worked    with    all    three    of    them    closely    and    consider    this    the    great    opportunity    of    my    life    .    I    see    four    milestones    in    my    career    .    india    is    great    compare    to    other    country    "
     ]
    }
   ],
   "source": [
    "for i in words2:\n",
    "    print(i, end='    ')"
   ]
  }
 ],
 "metadata": {
  "kernelspec": {
   "display_name": "Python 3 (ipykernel)",
   "language": "python",
   "name": "python3"
  },
  "language_info": {
   "codemirror_mode": {
    "name": "ipython",
    "version": 3
   },
   "file_extension": ".py",
   "mimetype": "text/x-python",
   "name": "python",
   "nbconvert_exporter": "python",
   "pygments_lexer": "ipython3",
   "version": "3.12.4"
  }
 },
 "nbformat": 4,
 "nbformat_minor": 5
}
