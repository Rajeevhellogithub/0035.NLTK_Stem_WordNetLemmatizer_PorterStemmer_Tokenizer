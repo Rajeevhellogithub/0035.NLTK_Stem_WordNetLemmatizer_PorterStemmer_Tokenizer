{
 "cells": [
  {
   "cell_type": "markdown",
   "id": "719bf08e-58b7-4fc4-89ff-d24b461ced76",
   "metadata": {},
   "source": [
    "# Import Libraries"
   ]
  },
  {
   "cell_type": "code",
   "execution_count": 1,
   "id": "28583071-1d3b-467a-a333-91877e62636a",
   "metadata": {},
   "outputs": [],
   "source": [
    "import nltk\n",
    "from nltk.stem import PorterStemmer\n",
    "from nltk.corpus import stopwords"
   ]
  },
  {
   "cell_type": "code",
   "execution_count": 6,
   "id": "5615972b-90bd-4858-8c8a-87d311c6b8a8",
   "metadata": {},
   "outputs": [
    {
     "data": {
      "text/plain": [
       "<PorterStemmer>"
      ]
     },
     "execution_count": 6,
     "metadata": {},
     "output_type": "execute_result"
    }
   ],
   "source": [
    "stemmer = PorterStemmer()\n",
    "stemmer"
   ]
  },
  {
   "cell_type": "markdown",
   "id": "d5e9e201-23f6-446d-9739-1b674f5b20c9",
   "metadata": {
    "jp-MarkdownHeadingCollapsed": true
   },
   "source": [
    "# Paragraph 1 - Stemming"
   ]
  },
  {
   "cell_type": "code",
   "execution_count": 2,
   "id": "98980fd7-c5be-4dd6-9ca6-c3d2dde9208a",
   "metadata": {},
   "outputs": [],
   "source": [
    "paragraph1 = '''AI, machine learning and deep learning are common terms in enterprise \n",
    "                IT and sometimes used interchangeably, especially by companies in their marketing materials. \n",
    "                But there are distinctions. The term AI, coined in the 1950s, refers to the simulation of human \n",
    "                intelligence by machines. It covers an ever-changing set of capabilities as new technologies \n",
    "                are developed. Technologies that come under the umbrella of AI include machine learning and \n",
    "                deep learning. Machine learning enables software applications to become more accurate at \n",
    "                predicting outcomes without being explicitly programmed to do so. Machine learning algorithms \n",
    "                use historical data as input to predict new output values. This approach became vastly more \n",
    "                effective with the rise of large data sets to train on. Deep learning, a subset of machine \n",
    "                learning, is based on our understanding of how the brain is structured. Deep learning's \n",
    "                use of artificial neural networks structure is the underpinning of recent advances in AI, \n",
    "                including self-driving cars and ChatGPT.'''"
   ]
  },
  {
   "cell_type": "code",
   "execution_count": 4,
   "id": "4c159959-9bc1-40e7-b890-721a051a0284",
   "metadata": {},
   "outputs": [
    {
     "data": {
      "text/plain": [
       "\"AI, machine learning and deep learning are common terms in enterprise \\n                IT and sometimes used interchangeably, especially by companies in their marketing materials. \\n                But there are distinctions. The term AI, coined in the 1950s, refers to the simulation of human \\n                intelligence by machines. It covers an ever-changing set of capabilities as new technologies \\n                are developed. Technologies that come under the umbrella of AI include machine learning and \\n                deep learning. Machine learning enables software applications to become more accurate at \\n                predicting outcomes without being explicitly programmed to do so. Machine learning algorithms \\n                use historical data as input to predict new output values. This approach became vastly more \\n                effective with the rise of large data sets to train on. Deep learning, a subset of machine \\n                learning, is based on our understanding of how the brain is structured. Deep learning's \\n                use of artificial neural networks structure is the underpinning of recent advances in AI, \\n                including self-driving cars and ChatGPT.\""
      ]
     },
     "execution_count": 4,
     "metadata": {},
     "output_type": "execute_result"
    }
   ],
   "source": [
    "paragraph1"
   ]
  },
  {
   "cell_type": "code",
   "execution_count": 7,
   "id": "75dc17e8-7ce0-47fc-bfd1-ca9af6c1561d",
   "metadata": {},
   "outputs": [
    {
     "data": {
      "text/plain": [
       "10"
      ]
     },
     "execution_count": 7,
     "metadata": {},
     "output_type": "execute_result"
    }
   ],
   "source": [
    "sentences1 = nltk.sent_tokenize(paragraph1)\n",
    "len(sentences1)"
   ]
  },
  {
   "cell_type": "code",
   "execution_count": 8,
   "id": "180d8fdf-b8b8-47da-a882-fc1067eadff0",
   "metadata": {},
   "outputs": [
    {
     "name": "stdout",
     "output_type": "stream",
     "text": [
      "AI, machine learning and deep learning are common terms in enterprise \n",
      "                IT and sometimes used interchangeably, especially by companies in their marketing materials.\n",
      "-----------------------------------------------------------------------\n",
      "But there are distinctions.\n",
      "-----------------------------------------------------------------------\n",
      "The term AI, coined in the 1950s, refers to the simulation of human \n",
      "                intelligence by machines.\n",
      "-----------------------------------------------------------------------\n",
      "It covers an ever-changing set of capabilities as new technologies \n",
      "                are developed.\n",
      "-----------------------------------------------------------------------\n",
      "Technologies that come under the umbrella of AI include machine learning and \n",
      "                deep learning.\n",
      "-----------------------------------------------------------------------\n",
      "Machine learning enables software applications to become more accurate at \n",
      "                predicting outcomes without being explicitly programmed to do so.\n",
      "-----------------------------------------------------------------------\n",
      "Machine learning algorithms \n",
      "                use historical data as input to predict new output values.\n",
      "-----------------------------------------------------------------------\n",
      "This approach became vastly more \n",
      "                effective with the rise of large data sets to train on.\n",
      "-----------------------------------------------------------------------\n",
      "Deep learning, a subset of machine \n",
      "                learning, is based on our understanding of how the brain is structured.\n",
      "-----------------------------------------------------------------------\n",
      "Deep learning's \n",
      "                use of artificial neural networks structure is the underpinning of recent advances in AI, \n",
      "                including self-driving cars and ChatGPT.\n",
      "-----------------------------------------------------------------------\n"
     ]
    }
   ],
   "source": [
    "for i in sentences1:\n",
    "    print(i)\n",
    "    print('-----------------------------------------------------------------------')"
   ]
  },
  {
   "cell_type": "code",
   "execution_count": 9,
   "id": "5c007af8-7299-46f5-963d-c2fc4770567d",
   "metadata": {},
   "outputs": [],
   "source": [
    "for i in range(len(sentences1)):\n",
    "    words = nltk.word_tokenize(sentences1[i])\n",
    "    words = [stemmer.stem(word) for word in words if word not in set(stopwords.words('english'))]\n",
    "    sentences1[i] = ' '.join(words) "
   ]
  },
  {
   "cell_type": "code",
   "execution_count": 10,
   "id": "25c4bf5c-ab66-4b49-ac20-e600f5e84582",
   "metadata": {},
   "outputs": [
    {
     "data": {
      "text/plain": [
       "10"
      ]
     },
     "execution_count": 10,
     "metadata": {},
     "output_type": "execute_result"
    }
   ],
   "source": [
    "len(sentences1)"
   ]
  },
  {
   "cell_type": "code",
   "execution_count": 11,
   "id": "da4fc079-1dc9-40e7-818d-a32fc9c4fafb",
   "metadata": {},
   "outputs": [
    {
     "name": "stdout",
     "output_type": "stream",
     "text": [
      "ai , machin learn deep learn common term enterpris it sometim use interchang , especi compani market materi .\n",
      "-----------------------------------------------------------------------\n",
      "but distinct .\n",
      "-----------------------------------------------------------------------\n",
      "the term ai , coin 1950 , refer simul human intellig machin .\n",
      "-----------------------------------------------------------------------\n",
      "it cover ever-chang set capabl new technolog develop .\n",
      "-----------------------------------------------------------------------\n",
      "technolog come umbrella ai includ machin learn deep learn .\n",
      "-----------------------------------------------------------------------\n",
      "machin learn enabl softwar applic becom accur predict outcom without explicitli program .\n",
      "-----------------------------------------------------------------------\n",
      "machin learn algorithm use histor data input predict new output valu .\n",
      "-----------------------------------------------------------------------\n",
      "thi approach becam vastli effect rise larg data set train .\n",
      "-----------------------------------------------------------------------\n",
      "deep learn , subset machin learn , base understand brain structur .\n",
      "-----------------------------------------------------------------------\n",
      "deep learn 's use artifici neural network structur underpin recent advanc ai , includ self-driv car chatgpt .\n",
      "-----------------------------------------------------------------------\n"
     ]
    }
   ],
   "source": [
    "for i in sentences1:\n",
    "    print(i)\n",
    "    print('-----------------------------------------------------------------------')"
   ]
  },
  {
   "cell_type": "markdown",
   "id": "55d1a4cc-aba4-42a7-a491-e1f20571b4e0",
   "metadata": {
    "jp-MarkdownHeadingCollapsed": true
   },
   "source": [
    "# Paragraph 2 - Stemming"
   ]
  },
  {
   "cell_type": "code",
   "execution_count": 3,
   "id": "e3fb5809-55a3-4c3a-a3fa-446d87cf2a70",
   "metadata": {},
   "outputs": [],
   "source": [
    "paragraph2 = \"\"\"I have three visions for India. In 3000 years of our history, people from all over \n",
    "               the world have come and invaded us, captured our lands, conquered our minds. \n",
    "               From Alexander onwards, the Greeks, the Turks, the Moguls, the Portuguese, the British,\n",
    "               the French, the Dutch, all of them came and looted us, took over what was ours. \n",
    "               Yet we have not done this to any other nation. We have not conquered anyone. \n",
    "               We have not grabbed their land, their culture, \n",
    "               their history and tried to enforce our way of life on them. \n",
    "               Why? Because we respect the freedom of others.That is why my \n",
    "               first vision is that of freedom. I believe that India got its first vision of \n",
    "               this in 1857, when we started the War of Independence. It is this freedom that\n",
    "               we must protect and nurture and build on. If we are not free, no one will respect us.\n",
    "               My second vision for India’s development. For fifty years we have been a developing nation.\n",
    "               It is time we see ourselves as a developed nation. We are among the top 5 nations of the world\n",
    "               in terms of GDP. We have a 10 percent growth rate in most areas. Our poverty levels are falling.\n",
    "               Our achievements are being globally recognised today. Yet we lack the self-confidence to\n",
    "               see ourselves as a developed nation, self-reliant and self-assured. Isn’t this incorrect?\n",
    "               I have a third vision. India must stand up to the world. Because I believe that unless India \n",
    "               stands up to the world, no one will respect us. Only strength respects strength. We must be \n",
    "               strong not only as a military power but also as an economic power. Both must go hand-in-hand. \n",
    "               My good fortune was to have worked with three great minds. Dr. Vikram Sarabhai of the Dept. of \n",
    "               space, Professor Satish Dhawan, who succeeded him and Dr. Brahm Prakash, father of nuclear material.\n",
    "               I was lucky to have worked with all three of them closely and consider this the great opportunity of my life. \n",
    "               I see four milestones in my career. india is great compare to other country \"\"\""
   ]
  },
  {
   "cell_type": "code",
   "execution_count": 5,
   "id": "5edfad3f-e7dd-4ac3-8b2e-49d8baef7bcd",
   "metadata": {},
   "outputs": [
    {
     "data": {
      "text/plain": [
       "'I have three visions for India. In 3000 years of our history, people from all over \\n               the world have come and invaded us, captured our lands, conquered our minds. \\n               From Alexander onwards, the Greeks, the Turks, the Moguls, the Portuguese, the British,\\n               the French, the Dutch, all of them came and looted us, took over what was ours. \\n               Yet we have not done this to any other nation. We have not conquered anyone. \\n               We have not grabbed their land, their culture, \\n               their history and tried to enforce our way of life on them. \\n               Why? Because we respect the freedom of others.That is why my \\n               first vision is that of freedom. I believe that India got its first vision of \\n               this in 1857, when we started the War of Independence. It is this freedom that\\n               we must protect and nurture and build on. If we are not free, no one will respect us.\\n               My second vision for India’s development. For fifty years we have been a developing nation.\\n               It is time we see ourselves as a developed nation. We are among the top 5 nations of the world\\n               in terms of GDP. We have a 10 percent growth rate in most areas. Our poverty levels are falling.\\n               Our achievements are being globally recognised today. Yet we lack the self-confidence to\\n               see ourselves as a developed nation, self-reliant and self-assured. Isn’t this incorrect?\\n               I have a third vision. India must stand up to the world. Because I believe that unless India \\n               stands up to the world, no one will respect us. Only strength respects strength. We must be \\n               strong not only as a military power but also as an economic power. Both must go hand-in-hand. \\n               My good fortune was to have worked with three great minds. Dr. Vikram Sarabhai of the Dept. of \\n               space, Professor Satish Dhawan, who succeeded him and Dr. Brahm Prakash, father of nuclear material.\\n               I was lucky to have worked with all three of them closely and consider this the great opportunity of my life. \\n               I see four milestones in my career. india is great compare to other country '"
      ]
     },
     "execution_count": 5,
     "metadata": {},
     "output_type": "execute_result"
    }
   ],
   "source": [
    "paragraph2"
   ]
  },
  {
   "cell_type": "code",
   "execution_count": 12,
   "id": "630226db-b20d-4877-ac21-1e4967074377",
   "metadata": {},
   "outputs": [
    {
     "data": {
      "text/plain": [
       "32"
      ]
     },
     "execution_count": 12,
     "metadata": {},
     "output_type": "execute_result"
    }
   ],
   "source": [
    "sentences2 = nltk.sent_tokenize(paragraph2)\n",
    "len(sentences2)"
   ]
  },
  {
   "cell_type": "code",
   "execution_count": 13,
   "id": "c56e7c5f-768b-4c15-8bdd-49197a21a69c",
   "metadata": {},
   "outputs": [
    {
     "name": "stdout",
     "output_type": "stream",
     "text": [
      "I have three visions for India.\n",
      "-----------------------------------------------------------------------\n",
      "In 3000 years of our history, people from all over \n",
      "               the world have come and invaded us, captured our lands, conquered our minds.\n",
      "-----------------------------------------------------------------------\n",
      "From Alexander onwards, the Greeks, the Turks, the Moguls, the Portuguese, the British,\n",
      "               the French, the Dutch, all of them came and looted us, took over what was ours.\n",
      "-----------------------------------------------------------------------\n",
      "Yet we have not done this to any other nation.\n",
      "-----------------------------------------------------------------------\n",
      "We have not conquered anyone.\n",
      "-----------------------------------------------------------------------\n",
      "We have not grabbed their land, their culture, \n",
      "               their history and tried to enforce our way of life on them.\n",
      "-----------------------------------------------------------------------\n",
      "Why?\n",
      "-----------------------------------------------------------------------\n",
      "Because we respect the freedom of others.That is why my \n",
      "               first vision is that of freedom.\n",
      "-----------------------------------------------------------------------\n",
      "I believe that India got its first vision of \n",
      "               this in 1857, when we started the War of Independence.\n",
      "-----------------------------------------------------------------------\n",
      "It is this freedom that\n",
      "               we must protect and nurture and build on.\n",
      "-----------------------------------------------------------------------\n",
      "If we are not free, no one will respect us.\n",
      "-----------------------------------------------------------------------\n",
      "My second vision for India’s development.\n",
      "-----------------------------------------------------------------------\n",
      "For fifty years we have been a developing nation.\n",
      "-----------------------------------------------------------------------\n",
      "It is time we see ourselves as a developed nation.\n",
      "-----------------------------------------------------------------------\n",
      "We are among the top 5 nations of the world\n",
      "               in terms of GDP.\n",
      "-----------------------------------------------------------------------\n",
      "We have a 10 percent growth rate in most areas.\n",
      "-----------------------------------------------------------------------\n",
      "Our poverty levels are falling.\n",
      "-----------------------------------------------------------------------\n",
      "Our achievements are being globally recognised today.\n",
      "-----------------------------------------------------------------------\n",
      "Yet we lack the self-confidence to\n",
      "               see ourselves as a developed nation, self-reliant and self-assured.\n",
      "-----------------------------------------------------------------------\n",
      "Isn’t this incorrect?\n",
      "-----------------------------------------------------------------------\n",
      "I have a third vision.\n",
      "-----------------------------------------------------------------------\n",
      "India must stand up to the world.\n",
      "-----------------------------------------------------------------------\n",
      "Because I believe that unless India \n",
      "               stands up to the world, no one will respect us.\n",
      "-----------------------------------------------------------------------\n",
      "Only strength respects strength.\n",
      "-----------------------------------------------------------------------\n",
      "We must be \n",
      "               strong not only as a military power but also as an economic power.\n",
      "-----------------------------------------------------------------------\n",
      "Both must go hand-in-hand.\n",
      "-----------------------------------------------------------------------\n",
      "My good fortune was to have worked with three great minds.\n",
      "-----------------------------------------------------------------------\n",
      "Dr. Vikram Sarabhai of the Dept.\n",
      "-----------------------------------------------------------------------\n",
      "of \n",
      "               space, Professor Satish Dhawan, who succeeded him and Dr. Brahm Prakash, father of nuclear material.\n",
      "-----------------------------------------------------------------------\n",
      "I was lucky to have worked with all three of them closely and consider this the great opportunity of my life.\n",
      "-----------------------------------------------------------------------\n",
      "I see four milestones in my career.\n",
      "-----------------------------------------------------------------------\n",
      "india is great compare to other country\n",
      "-----------------------------------------------------------------------\n"
     ]
    }
   ],
   "source": [
    "for i in sentences2:\n",
    "    print(i)\n",
    "    print('-----------------------------------------------------------------------')"
   ]
  },
  {
   "cell_type": "code",
   "execution_count": 14,
   "id": "bcd6c0d4-8488-4721-bbf2-56e70ecb70cf",
   "metadata": {},
   "outputs": [],
   "source": [
    "for i in range(len(sentences2)):\n",
    "    words = nltk.word_tokenize(sentences2[i])\n",
    "    words = [stemmer.stem(word) for word in words if word not in set(stopwords.words('english'))]\n",
    "    sentences2[i] = ' '.join(words)"
   ]
  },
  {
   "cell_type": "code",
   "execution_count": 15,
   "id": "5e7eddb2-5cd0-4e4f-8e95-0115fdeeb8f3",
   "metadata": {},
   "outputs": [
    {
     "data": {
      "text/plain": [
       "32"
      ]
     },
     "execution_count": 15,
     "metadata": {},
     "output_type": "execute_result"
    }
   ],
   "source": [
    "len(sentences2)"
   ]
  },
  {
   "cell_type": "code",
   "execution_count": 16,
   "id": "b913d644-2d8e-4677-9828-d15b596f2456",
   "metadata": {},
   "outputs": [
    {
     "name": "stdout",
     "output_type": "stream",
     "text": [
      "i three vision india .\n",
      "-----------------------------------------------------------------------\n",
      "in 3000 year histori , peopl world come invad us , captur land , conquer mind .\n",
      "-----------------------------------------------------------------------\n",
      "from alexand onward , greek , turk , mogul , portugues , british , french , dutch , came loot us , took .\n",
      "-----------------------------------------------------------------------\n",
      "yet done nation .\n",
      "-----------------------------------------------------------------------\n",
      "we conquer anyon .\n",
      "-----------------------------------------------------------------------\n",
      "we grab land , cultur , histori tri enforc way life .\n",
      "-----------------------------------------------------------------------\n",
      "whi ?\n",
      "-----------------------------------------------------------------------\n",
      "becaus respect freedom others.that first vision freedom .\n",
      "-----------------------------------------------------------------------\n",
      "i believ india got first vision 1857 , start war independ .\n",
      "-----------------------------------------------------------------------\n",
      "it freedom must protect nurtur build .\n",
      "-----------------------------------------------------------------------\n",
      "if free , one respect us .\n",
      "-----------------------------------------------------------------------\n",
      "my second vision india ’ develop .\n",
      "-----------------------------------------------------------------------\n",
      "for fifti year develop nation .\n",
      "-----------------------------------------------------------------------\n",
      "it time see develop nation .\n",
      "-----------------------------------------------------------------------\n",
      "we among top 5 nation world term gdp .\n",
      "-----------------------------------------------------------------------\n",
      "we 10 percent growth rate area .\n",
      "-----------------------------------------------------------------------\n",
      "our poverti level fall .\n",
      "-----------------------------------------------------------------------\n",
      "our achiev global recognis today .\n",
      "-----------------------------------------------------------------------\n",
      "yet lack self-confid see develop nation , self-reli self-assur .\n",
      "-----------------------------------------------------------------------\n",
      "isn ’ incorrect ?\n",
      "-----------------------------------------------------------------------\n",
      "i third vision .\n",
      "-----------------------------------------------------------------------\n",
      "india must stand world .\n",
      "-----------------------------------------------------------------------\n",
      "becaus i believ unless india stand world , one respect us .\n",
      "-----------------------------------------------------------------------\n",
      "onli strength respect strength .\n",
      "-----------------------------------------------------------------------\n",
      "we must strong militari power also econom power .\n",
      "-----------------------------------------------------------------------\n",
      "both must go hand-in-hand .\n",
      "-----------------------------------------------------------------------\n",
      "my good fortun work three great mind .\n",
      "-----------------------------------------------------------------------\n",
      "dr. vikram sarabhai dept .\n",
      "-----------------------------------------------------------------------\n",
      "space , professor satish dhawan , succeed dr. brahm prakash , father nuclear materi .\n",
      "-----------------------------------------------------------------------\n",
      "i lucki work three close consid great opportun life .\n",
      "-----------------------------------------------------------------------\n",
      "i see four mileston career .\n",
      "-----------------------------------------------------------------------\n",
      "india great compar countri\n",
      "-----------------------------------------------------------------------\n"
     ]
    }
   ],
   "source": [
    "for i in sentences2:\n",
    "    print(i)\n",
    "    print('-----------------------------------------------------------------------')"
   ]
  }
 ],
 "metadata": {
  "kernelspec": {
   "display_name": "Python 3 (ipykernel)",
   "language": "python",
   "name": "python3"
  },
  "language_info": {
   "codemirror_mode": {
    "name": "ipython",
    "version": 3
   },
   "file_extension": ".py",
   "mimetype": "text/x-python",
   "name": "python",
   "nbconvert_exporter": "python",
   "pygments_lexer": "ipython3",
   "version": "3.12.4"
  }
 },
 "nbformat": 4,
 "nbformat_minor": 5
}
